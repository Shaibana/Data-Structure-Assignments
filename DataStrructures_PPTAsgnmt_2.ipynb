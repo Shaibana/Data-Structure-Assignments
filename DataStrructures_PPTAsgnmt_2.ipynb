{
  "nbformat": 4,
  "nbformat_minor": 0,
  "metadata": {
    "colab": {
      "provenance": []
    },
    "kernelspec": {
      "name": "python3",
      "display_name": "Python 3"
    },
    "language_info": {
      "name": "python"
    }
  },
  "cells": [
    {
      "cell_type": "markdown",
      "source": [
        "1. Given an integer array nums of 2n integers, group these integers into n pairs (a1, b1), (a2, b2),..., (an, bn) such that the sum of min(ai, bi) for all i is maximized. Return the maximized sum.\n",
        "\n",
        "Input: nums = [1,4,3,2]\n",
        "**bold text**\n",
        "Output: **4**"
      ],
      "metadata": {
        "id": "ZCzzOcV8viai"
      }
    },
    {
      "cell_type": "code",
      "source": [
        "def arrayPairSum(nums):\n",
        "        nums.sort()\n",
        "        result = 0\n",
        "        numsLen = len(nums)\n",
        "        for i in range(0, numsLen - 1, 2):\n",
        "            result += nums[i]\n",
        "        return result\n",
        "\n",
        "nums=[1,4,3,2]\n",
        "arrayPairSum(nums)        "
      ],
      "metadata": {
        "colab": {
          "base_uri": "https://localhost:8080/"
        },
        "id": "d5eybBHcms0Y",
        "outputId": "f75d0962-27f2-412d-bbdc-d22ad3d8c662"
      },
      "execution_count": 12,
      "outputs": [
        {
          "output_type": "execute_result",
          "data": {
            "text/plain": [
              "4"
            ]
          },
          "metadata": {},
          "execution_count": 12
        }
      ]
    },
    {
      "cell_type": "markdown",
      "source": [
        "2.Alice has n candies, where the ith candy is of type candyType[i]. Alice noticed that she started to gain weight, so she visited a doctor. \n",
        "\n",
        "\n",
        "The doctor advised Alice to only eat n / 2 of the candies she has (n is always even). Alice likes her candies very much, and she wants to eat the maximum number of different types of candies while still following the doctor's advice. \n",
        "\n",
        "Given the integer array candyType of length n, return the maximum number of different types of candies she can eat if she only eats n / 2 of them.\n",
        "\n",
        "Input: candyType = [1,1,2,2,3,3]\n",
        "Output:3\n",
        "\n",
        "Explanation: Alice can only eat 6 / 2 = 3 candies. Since there are only 3 types, she can eat one of each type."
      ],
      "metadata": {
        "id": "MCxyLca5v4yz"
      }
    },
    {
      "cell_type": "code",
      "source": [
        "def FindingConsCandies(num_candy):\n",
        "    li=[]\n",
        "    for i in range(0,len(candy_type)):\n",
        "          if candy_type[i] not in li:\n",
        "            li.append(candy_type[i])\n",
        "    print(f'Number of consumable candies is {len(li)}')\n",
        "\n",
        "\n",
        "candy_type=[1,1,2,2,3,3]\n",
        "FindingConsCandies(candy_type)"
      ],
      "metadata": {
        "colab": {
          "base_uri": "https://localhost:8080/"
        },
        "id": "miJFhX45wOmQ",
        "outputId": "662df2e5-e7f0-4b05-c687-a7646af99293"
      },
      "execution_count": 19,
      "outputs": [
        {
          "output_type": "stream",
          "name": "stdout",
          "text": [
            "Number of consumable candies is 3\n"
          ]
        }
      ]
    },
    {
      "cell_type": "markdown",
      "source": [
        "3.We define a harmonious array as an array where the difference between its maximum value and its minimum value is exactly 1.\n",
        "\n",
        "Given an integer array nums, return the length of its longest harmonious subsequence\n"
      ],
      "metadata": {
        "id": "H5ds1OW3wPB_"
      }
    },
    {
      "cell_type": "code",
      "source": [
        "def longestSubseqofDiffOne(arr, n):\n",
        "\n",
        "    dp = [1 for i in range(n)]\n",
        "    \n",
        "    for i in range(n):\n",
        "        for j in range(i):\n",
        "            if ((arr[i] == arr[j]+1) or (arr[i] == arr[j]-1)):\n",
        "                dp[i] = max(dp[i], dp[j]+1)\n",
        "\n",
        "    result = 1\n",
        "    for i in range(n):\n",
        "        if (result < dp[i]):\n",
        "            result = dp[i]\n",
        "            \n",
        "    return result\n",
        " \n",
        "arr = [1, 2, 3, 4, 5, 3, 2]\n",
        "n = len(arr)\n",
        "print (longestSubseqofDiffOne(arr, n))"
      ],
      "metadata": {
        "colab": {
          "base_uri": "https://localhost:8080/"
        },
        "id": "rellk2iRuYfJ",
        "outputId": "a61ca75a-a5af-48da-8eb2-dce660e33d09"
      },
      "execution_count": 27,
      "outputs": [
        {
          "output_type": "stream",
          "name": "stdout",
          "text": [
            "6\n"
          ]
        }
      ]
    },
    {
      "cell_type": "markdown",
      "source": [
        "4.You have a long flowerbed in which some of the plots are planted, and some are not.\n",
        "However, flowers cannot be planted in adjacent plots.\n",
        "\n",
        "Given an integer array flowerbed containing 0's and 1's, where 0 means empty and 1 means not empty, and an integer n, return true if n new flowers can be planted in the flowerbed without violating the no-adjacent-flowers rule and false otherwise.\n",
        "\n",
        "Ex:\n",
        "\n",
        "Input: flowerbed = [1,0,0,0,1], n = 1\n",
        "\n",
        "output= True"
      ],
      "metadata": {
        "id": "DnOAbYMOuY7o"
      }
    },
    {
      "cell_type": "code",
      "source": [
        "\n",
        "def Placingflowers(flower_array,n):\n",
        "    count=0\n",
        "    s=len(flower_array)\n",
        "    f=[0]+flower_array+[0]\n",
        "    for i in range(1,s):\n",
        "        if f[i-1]==0 and f[i]==0 and f[i+1]==0:\n",
        "           n=n-1\n",
        "    return n<=0\n",
        "\n",
        "flowerbed=[0,1,0,0,0,1]\n",
        "n=2\n",
        "Placingflowers(flowerbed,n)    "
      ],
      "metadata": {
        "colab": {
          "base_uri": "https://localhost:8080/"
        },
        "id": "jpdCWi4Bu-_-",
        "outputId": "1e94931b-a4f7-4383-df87-430326974baa"
      },
      "execution_count": 29,
      "outputs": [
        {
          "output_type": "execute_result",
          "data": {
            "text/plain": [
              "False"
            ]
          },
          "metadata": {},
          "execution_count": 29
        }
      ]
    },
    {
      "cell_type": "markdown",
      "source": [
        "5.Given an integer array nums, find three numbers whose product is maximum and return the maximum product.\n",
        "Example:\n",
        "Input: nums = [1,2,3]\n",
        "\n",
        "output:6"
      ],
      "metadata": {
        "id": "8X28G66y2h9s"
      }
    },
    {
      "cell_type": "code",
      "source": [
        "def MaxProd(arr):\n",
        "    n=len(arr)\n",
        "    li=[]\n",
        "    for i in range(0,n-1):\n",
        "      for j in range(0,n):\n",
        "        li.append(arr[i]*arr[j])\n",
        "    return max(li)    \n",
        "\n",
        "arr=[1,2,3,4]\n",
        "MaxProd(arr)\n",
        "    "
      ],
      "metadata": {
        "colab": {
          "base_uri": "https://localhost:8080/"
        },
        "id": "9jMwZUyJ2y99",
        "outputId": "52504671-f92b-4aed-9966-08d983fd849b"
      },
      "execution_count": 38,
      "outputs": [
        {
          "output_type": "execute_result",
          "data": {
            "text/plain": [
              "12"
            ]
          },
          "metadata": {},
          "execution_count": 38
        }
      ]
    },
    {
      "cell_type": "markdown",
      "source": [
        "6.Given an array of integers nums which is sorted in ascending order, and an integer target, write a function to search target in nums. If target exists, then return its index. Otherwise,return -1.\n",
        "You must write an algorithm with O(log n) runtime complexity.\n",
        "Input: nums = [-1,0,3,5,9,12], target = 9\n",
        "Output: 4\n",
        "\n",
        "\n"
      ],
      "metadata": {
        "id": "P5tOK1PA6W4M"
      }
    },
    {
      "cell_type": "code",
      "source": [
        "\n",
        "def FindNum(arr,target):\n",
        "    \n",
        "    for i in range(0,len(nums)):\n",
        "       if (nums[i]==target):\n",
        "           return i\n",
        "    return -1        \n",
        "           \n",
        "nums=[-1,0,3,5,9,12]\n",
        "\n",
        "\n",
        "print(FindNum(nums,9))\n",
        "print(FindNum(nums,7))\n"
      ],
      "metadata": {
        "colab": {
          "base_uri": "https://localhost:8080/"
        },
        "id": "T3rS6OYr6oan",
        "outputId": "9b86bbed-bece-4603-b2a3-95ede33b0724"
      },
      "execution_count": 69,
      "outputs": [
        {
          "output_type": "stream",
          "name": "stdout",
          "text": [
            "4\n",
            "-1\n"
          ]
        }
      ]
    },
    {
      "cell_type": "markdown",
      "source": [
        "7.An array is monotonic if it is either monotone increasing or monotone decreasing.\n",
        "An array nums is monotone increasing if for all i <= j, nums[i] <= nums[j]. An array nums is monotone decreasing if for all i <= j, nums[i] >= nums[j].\n",
        "\n",
        "Given an integer array nums, return true if the given array is monotonic, or false otherwise.\n",
        "\n",
        "Example 1:\n",
        "Input: nums = [1,2,2,3]\n",
        "output= True\n"
      ],
      "metadata": {
        "id": "BHSpwhEtL_H6"
      }
    },
    {
      "cell_type": "code",
      "source": [
        "nums=[1,2,2,3,4]\n",
        "\n",
        "def monotone_arr(arr):\n",
        "    for i in range(0,len(nums)-1):\n",
        "      for j in range(i+1,len(nums)):\n",
        "         if(nums[i]>=nums[j]):\n",
        "            return True\n",
        "    return False   \n",
        "\n",
        "monotone_arr(nums)       "
      ],
      "metadata": {
        "colab": {
          "base_uri": "https://localhost:8080/"
        },
        "id": "nFOlSnNz3iow",
        "outputId": "f51a10cf-08df-4d51-e6e3-3f639c8c5cb8"
      },
      "execution_count": 22,
      "outputs": [
        {
          "output_type": "execute_result",
          "data": {
            "text/plain": [
              "True"
            ]
          },
          "metadata": {},
          "execution_count": 22
        }
      ]
    },
    {
      "cell_type": "markdown",
      "source": [
        "8.You are given an integer array nums and an integer k.\n",
        "In one operation, you can choose any index i where 0 <= i < nums.length and change nums[i] to nums[i] + x where x is an integer from the range [-k, k]. You can apply this operation at most once for each index i.\n",
        "The score of nums is the difference between the maximum and minimum elements in nums.\n",
        "Return the minimum score of nums after applying the mentioned operation at most once for each index in it.\n",
        "Eg:\n",
        "Input: nums = [1], k = 0\n",
        "output: 0\n",
        "Explanation: The score is max(nums) - min(nums) = 1 - 1 = 0\n"
      ],
      "metadata": {
        "id": "XIH9GAm4RPFk"
      }
    },
    {
      "cell_type": "code",
      "source": [
        "def min_sort_arr(arr,k):\n",
        "    arr.sort()\n",
        "    sort_arr=arr[:k]\n",
        "    return max(sort_arr)-min(sort_arr)\n",
        "\n",
        "arr=[100,20,30,10,200,300]\n",
        "min_sort_arr(arr,3)    "
      ],
      "metadata": {
        "colab": {
          "base_uri": "https://localhost:8080/"
        },
        "id": "eLClkanJSLkt",
        "outputId": "59aefd64-910e-417a-ed4a-20f17b058b1c"
      },
      "execution_count": 3,
      "outputs": [
        {
          "output_type": "execute_result",
          "data": {
            "text/plain": [
              "20"
            ]
          },
          "metadata": {},
          "execution_count": 3
        }
      ]
    },
    {
      "cell_type": "code",
      "source": [
        "min_sort_arr([1],1)"
      ],
      "metadata": {
        "colab": {
          "base_uri": "https://localhost:8080/"
        },
        "id": "BAXlWagOAyN_",
        "outputId": "17251fba-47f4-41cc-e257-dc2bab0310c3"
      },
      "execution_count": 4,
      "outputs": [
        {
          "output_type": "execute_result",
          "data": {
            "text/plain": [
              "0"
            ]
          },
          "metadata": {},
          "execution_count": 4
        }
      ]
    },
    {
      "cell_type": "code",
      "source": [],
      "metadata": {
        "id": "1cwiE0MlA3Ju"
      },
      "execution_count": null,
      "outputs": []
    }
  ]
}