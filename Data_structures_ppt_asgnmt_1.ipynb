{
  "nbformat": 4,
  "nbformat_minor": 0,
  "metadata": {
    "colab": {
      "provenance": []
    },
    "kernelspec": {
      "name": "python3",
      "display_name": "Python 3"
    },
    "language_info": {
      "name": "python"
    }
  },
  "cells": [
    {
      "cell_type": "markdown",
      "source": [
        "\n",
        "Q1. Given an array of integers nums and an integer target, return indices of the two numbers such that they add up to target.\n"
      ],
      "metadata": {
        "id": "rvD0E_mo4tQL"
      }
    },
    {
      "cell_type": "code",
      "source": [
        "arr =[1,2,3,4,5,6,13]\n",
        "\n",
        "for i in range(0,7):\n",
        "   for j in range(i+1,7):\n",
        "       if(arr[i]+arr[j]==14):\n",
        "           print(arr[i],arr[j]) \n"
      ],
      "metadata": {
        "id": "SG8jpG6v74nq",
        "colab": {
          "base_uri": "https://localhost:8080/"
        },
        "outputId": "fce20bed-847c-4659-f633-2224225f1bc0"
      },
      "execution_count": 54,
      "outputs": [
        {
          "output_type": "stream",
          "name": "stdout",
          "text": [
            "1 13\n"
          ]
        }
      ]
    },
    {
      "cell_type": "markdown",
      "source": [
        "Q2. Given an integer array nums and an integer val, remove all occurrences of val in nums in-place. The order of the elements may be changed. Then return the number of elements in nums which are not equal to val.\n",
        "\n",
        "Example:\n",
        "Input: nums = [3,2,2,3], val = 3\n",
        "Output: 2, nums = [2,2,_,_]\n"
      ],
      "metadata": {
        "id": "cvxuDO3P5BCA"
      }
    },
    {
      "cell_type": "code",
      "source": [
        "arr=[3,2,2,3]\n",
        "val=3\n",
        "\n",
        "for i in range(0,3):\n",
        "    if (arr[i]==val):\n",
        "        arr.remove(val)\n",
        "\n",
        "arr      "
      ],
      "metadata": {
        "id": "h8MSJKj75CWW",
        "outputId": "12e796ec-32e0-4e15-a91c-04dc63005f44",
        "colab": {
          "base_uri": "https://localhost:8080/"
        }
      },
      "execution_count": 55,
      "outputs": [
        {
          "output_type": "execute_result",
          "data": {
            "text/plain": [
              "[2, 2]"
            ]
          },
          "metadata": {},
          "execution_count": 55
        }
      ]
    },
    {
      "cell_type": "markdown",
      "source": [
        "\n",
        "Q3. Given a sorted array of distinct integers and a target value, return the index if the target is found. If not, return the index where it would be if it were inserted in order.\n",
        "\n",
        "You must write an algorithm with O(log n) runtime complexity.\n",
        "Example:\n",
        "Input: nums = [1,3,5,6], target = 5\n",
        "output:2\n",
        "\n",
        "\n"
      ],
      "metadata": {
        "id": "S0EOJDrI9jfk"
      }
    },
    {
      "cell_type": "code",
      "source": [
        "arr2=[1,2,3,6,5,4]\n",
        "val=5\n",
        "for i in range(0,6):\n",
        "    if (arr2[i]==val):\n",
        "       print(i)\n",
        "    "
      ],
      "metadata": {
        "id": "JlvcjK7e9lvo",
        "colab": {
          "base_uri": "https://localhost:8080/"
        },
        "outputId": "bded4b81-bc2a-40b5-b2ab-d9b8b70ce9f5"
      },
      "execution_count": 56,
      "outputs": [
        {
          "output_type": "stream",
          "name": "stdout",
          "text": [
            "4\n"
          ]
        }
      ]
    },
    {
      "cell_type": "markdown",
      "source": [
        "Q4. You are given a large integer represented as an integer array digits, where each digits[i] is the ith digit of the integer. The digits are ordered from most significant to least significant in left-to-right order. The large integer does not contain any leading 0's.\n",
        "\n",
        "Increment the large integer by one and return the resulting array of digits.\n",
        "\n",
        "**Example 1:**\n",
        "Input: digits = [1,2,3]\n",
        "Output: [1,2,4]\n",
        "\n",
        "**Explanation:** The array represents the integer 123.\n",
        "\n",
        "Incrementing by one gives 123 + 1 = 124.\n",
        "Thus, the result should be [1,2,4]."
      ],
      "metadata": {
        "id": "kSjCQpa6CwYe"
      }
    },
    {
      "cell_type": "code",
      "source": [
        "dig_arr=[1,2,3,4]\n",
        "temp=0\n",
        "for i in range(0,4):\n",
        "    if (temp < dig_arr[i]):\n",
        "       temp= dig_arr[i]\n",
        "print(temp)\n",
        "\n",
        "for j in range(0,4):\n",
        "    if dig_arr[j]==temp:\n",
        "       dig_arr[j]=dig_arr[j]+1\n",
        "\n",
        "dig_arr               "
      ],
      "metadata": {
        "colab": {
          "base_uri": "https://localhost:8080/"
        },
        "id": "R4FClwuGolkh",
        "outputId": "12f27493-0d3f-4370-af9d-d5c6f13f2a7a"
      },
      "execution_count": 57,
      "outputs": [
        {
          "output_type": "stream",
          "name": "stdout",
          "text": [
            "4\n"
          ]
        },
        {
          "output_type": "execute_result",
          "data": {
            "text/plain": [
              "[1, 2, 3, 5]"
            ]
          },
          "metadata": {},
          "execution_count": 57
        }
      ]
    },
    {
      "cell_type": "markdown",
      "source": [
        "\n",
        "Q5.You are given two integer arrays nums1 and nums2, sorted in non-decreasing order, and two integers m and n, representing the number of elements in nums1 and nums2 respectively.\n",
        "\n",
        "Merge nums1 and nums2 into a single array sorted in non-decreasing order.\n",
        "\n",
        "The final sorted array should not be returned by the function, but instead be stored inside the array nums1. To accommodate this, nums1 has a length of m + n, where the first m elements denote the elements that should be merged, and the last n elements are set to 0 and should be ignored. nums2 has a length of n.\n",
        "\n",
        "**Example 1:**\n",
        "Input: nums1 = [1,2,3,0,0,0], m = 3, nums2 = [2,5,6], n = 3\n",
        "Output: [1,2,2,3,5,6]\n",
        "\n",
        "**Explanation:** The arrays we are merging are [1,2,3] and [2,5,6].\n",
        "The result of the merge is [1,2,2,3,5,6] with the underlined elements coming from nums1.\n"
      ],
      "metadata": {
        "id": "FABhu_egbqaJ"
      }
    },
    {
      "cell_type": "code",
      "source": [
        "nums1 = [1,2,3,0,0,0]\n",
        "nums2 = [2,5,6]\n",
        "num=[]\n",
        "m=3\n",
        "for i in range(0,m):\n",
        "    num.append(nums1[i])\n",
        "\n",
        "nums3=num+nums2\n",
        "nums3.sort()\n",
        "nums3"
      ],
      "metadata": {
        "id": "xh1rhveWCM_J",
        "colab": {
          "base_uri": "https://localhost:8080/"
        },
        "outputId": "e70d700f-edaa-4a8b-cdcc-56ecb592d9ae"
      },
      "execution_count": 58,
      "outputs": [
        {
          "output_type": "execute_result",
          "data": {
            "text/plain": [
              "[1, 2, 2, 3, 5, 6]"
            ]
          },
          "metadata": {},
          "execution_count": 58
        }
      ]
    },
    {
      "cell_type": "markdown",
      "source": [
        "\n",
        "Q6. Given an integer array nums, return true if any value appears at least twice in the array, and return false if every element is distinct.\n",
        "Example:\n",
        "Input: nums = [1,2,3,1]\n",
        "\n",
        "Output: True\n"
      ],
      "metadata": {
        "id": "DfBedkbyHt8Q"
      }
    },
    {
      "cell_type": "code",
      "source": [
        "#To find repeated items in a list\n",
        "arr2= [1,2,1,9,3,1]\n",
        "siz=len(arr2)\n",
        "for i in range(0,6):\n",
        "    for j in range(i+1,6):\n",
        "       if (arr2[i] == arr2[j]):\n",
        "           print(i,j)\n",
        "  #return True   \n",
        "       #else:\n",
        "           #print('False') "
      ],
      "metadata": {
        "id": "hWo32UB_BnWo",
        "colab": {
          "base_uri": "https://localhost:8080/"
        },
        "outputId": "5d005d9d-052d-4edc-a67b-7edd47fbd654"
      },
      "execution_count": 10,
      "outputs": [
        {
          "output_type": "stream",
          "name": "stdout",
          "text": [
            "0 2\n",
            "0 5\n",
            "2 5\n"
          ]
        }
      ]
    },
    {
      "cell_type": "markdown",
      "source": [
        "<aside>\n",
        "Q7.Given an integer array nums, move all 0's to the end of it while maintaining the relative order of the nonzero elements.\n",
        "\n",
        "Note that you must do this in-place without making a copy of the array.\n",
        "Example 1:\n",
        "Input: nums = [0,1,0,3,12]\n",
        "Output: [1,3,12,0,0]\n",
        "\n"
      ],
      "metadata": {
        "id": "_9iDLxpsovCm"
      }
    },
    {
      "cell_type": "code",
      "source": [
        "num=[0,1,0,3,12]\n",
        "size=len(num)\n",
        "for i in range(0,size-1):\n",
        "    if (num[i]==0):\n",
        "       num.remove(num[i])\n",
        "       num.append(0)\n",
        "       \n",
        "\n",
        "num       \n"
      ],
      "metadata": {
        "colab": {
          "base_uri": "https://localhost:8080/"
        },
        "id": "M0nYLPPgpAh6",
        "outputId": "b9d8a323-4006-48ec-9587-856d40c11c0b"
      },
      "execution_count": 60,
      "outputs": [
        {
          "output_type": "execute_result",
          "data": {
            "text/plain": [
              "[1, 3, 12, 0, 0]"
            ]
          },
          "metadata": {},
          "execution_count": 60
        }
      ]
    },
    {
      "cell_type": "markdown",
      "source": [
        "Q8. You have a set of integers s, which originally contains all the numbers from 1 to n. Unfortunately, due to some error, one of the numbers in s got duplicated to another number in the set, which results in repetition of one number and loss of another number.\n",
        "\n",
        "You are given an integer array nums representing the data status of this set after the error.\n",
        "\n",
        "Find the number that occurs twice and the number that is missing and return them in the form of an array.\n",
        "\n",
        "Example 1:\n",
        "Input: nums = [1,2,2,4]\n",
        "Output: [2,3]"
      ],
      "metadata": {
        "id": "MCQ2X31gNkXz"
      }
    },
    {
      "cell_type": "code",
      "source": [
        "nums_1=[1,2,2,4]\n",
        "print(nums_1)\n",
        "for i in range(0,len(nums_1)-1):\n",
        "    if(nums_1[i+1]!=nums_1[i]+1):\n",
        "       print(nums_1[i],nums_1[i]+1)\n",
        "       nums_1[i+1]=nums_1[i]+1\n",
        "\n",
        "nums_1       "
      ],
      "metadata": {
        "colab": {
          "base_uri": "https://localhost:8080/"
        },
        "id": "EE9Bn-0qOCpA",
        "outputId": "3eb5c520-bc0a-41df-ce82-23c594a174e9"
      },
      "execution_count": 61,
      "outputs": [
        {
          "output_type": "stream",
          "name": "stdout",
          "text": [
            "[1, 2, 2, 4]\n",
            "2 3\n"
          ]
        },
        {
          "output_type": "execute_result",
          "data": {
            "text/plain": [
              "[1, 2, 3, 4]"
            ]
          },
          "metadata": {},
          "execution_count": 61
        }
      ]
    }
  ]
}