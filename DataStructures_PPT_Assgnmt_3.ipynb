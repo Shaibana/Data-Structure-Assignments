{
  "nbformat": 4,
  "nbformat_minor": 0,
  "metadata": {
    "colab": {
      "provenance": []
    },
    "kernelspec": {
      "name": "python3",
      "display_name": "Python 3"
    },
    "language_info": {
      "name": "python"
    }
  },
  "cells": [
    {
      "cell_type": "markdown",
      "source": [
        "1.Given an integer array nums of length n and an integer target, find three integers in nums such that the sum is closest to the target.\n",
        "Return the sum of the three integers.\n",
        "You may assume that each input would have exactly one solution.\n",
        "Input: nums = [-1,2,1,-4], target = 1\n",
        "Output: 2\n",
        "Explanation: The sum that is closest to the target is 2. (-1 + 2 + 1 = 2).\n",
        "\n"
      ],
      "metadata": {
        "id": "ZiuVBP0hHx-i"
      }
    },
    {
      "cell_type": "code",
      "source": [
        "def find_close_triplet(arr, n, x, count, sum, ind, ans, minm):\n",
        "    if ind == n:\n",
        "        if count == 3:\n",
        "            if abs(x - sum) < minm[0]:\n",
        "                minm[0] = abs(x - sum)\n",
        "                ans[0] = sum\n",
        "        return\n",
        " \n",
        "    find_close_triplet(arr, n, x, count + 1, sum + arr[ind], ind + 1, ans, minm)\n",
        " \n",
        "    find_close_triplet(arr, n, x, count, sum, ind + 1, ans, minm)\n",
        " \n",
        "if __name__ == \"__main__\":\n",
        "  arr = [-1, 2, 1, -4]\n",
        "  x = 1\n",
        "  n = len(arr)\n",
        "  minm = [float('inf')]\n",
        "  ans = [0]\n",
        "   \n",
        "  find_close_triplet(arr, n, x, 0, 0, 0, ans, minm)\n",
        "  print(ans[0])\n"
      ],
      "metadata": {
        "id": "4vtPQnTMIU3o",
        "colab": {
          "base_uri": "https://localhost:8080/"
        },
        "outputId": "483e4ca8-3a60-4e49-b151-075e6bbd055a"
      },
      "execution_count": 57,
      "outputs": [
        {
          "output_type": "stream",
          "name": "stdout",
          "text": [
            "2\n"
          ]
        }
      ]
    },
    {
      "cell_type": "markdown",
      "source": [
        "# 2.Given an array nums of n integers, return an array of all the unique quadruplets. \n",
        "[nums[a], nums[b], nums[c], nums[d]] such that:\n",
        "           ● 0 <= a, b, c, d < n\n",
        "           ● a, b, c, and d are distinct.\n",
        "           ● nums[a] + nums[b] + nums[c] + nums[d] == target\n",
        "You may return the answer in any order.\n",
        "Ex:\n",
        "Input: nums = [1,0,-1,0,-2,2], target = 0\n",
        "Output: [[-2,-1,1,2],[-2,0,0,2],[-1,0,0,1]]\n",
        "\n"
      ],
      "metadata": {
        "id": "DJqlZD2oNJwu"
      }
    },
    {
      "cell_type": "code",
      "source": [
        "class Pair:\n",
        "    def __init__(self, x, y):\n",
        "        self.index1 = x\n",
        "        self.index2 = y\n",
        " \n",
        "def GetQuadruplets(nums, target):\n",
        "    map = {}\n",
        " \n",
        "    for i in range(len(nums) - 1):\n",
        "        for j in range(i + 1, len(nums)):\n",
        "            sum = nums[i] + nums[j]\n",
        " \n",
        "            if sum not in map:\n",
        "                map[sum] = [Pair(i, j)]\n",
        "            else:\n",
        "                map[sum].append(Pair(i, j))\n",
        " \n",
        "    ans = set()\n",
        " \n",
        "    for i in range(len(nums) - 1):\n",
        "        for j in range(i + 1, len(nums)):\n",
        "            lookUp = target - (nums[i] + nums[j])\n",
        " \n",
        "            if lookUp in map:\n",
        "                temp = map[lookUp]\n",
        " \n",
        "                for pair in temp:\n",
        "                    \n",
        "                    if pair.index1 != i and pair.index1 != j and pair.index2 != i and pair.index2 != j:\n",
        "                        l1 = [nums[pair.index1], nums[pair.index2], nums[i], nums[j]]\n",
        "                         \n",
        "                        l1.sort()\n",
        "                         \n",
        "                        ans.add(tuple(l1))\n",
        " \n",
        "    print(*reversed(list(ans)), sep = '\\n')\n",
        " \n",
        "arr = [1, 0, -1, 0, -2, 2]\n",
        "K = 0\n",
        "GetQuadruplets(arr, K)\n"
      ],
      "metadata": {
        "id": "d6qU2xiwN6Lq",
        "colab": {
          "base_uri": "https://localhost:8080/"
        },
        "outputId": "4998f565-b223-458f-a915-3eb50adb4e96"
      },
      "execution_count": 58,
      "outputs": [
        {
          "output_type": "stream",
          "name": "stdout",
          "text": [
            "(-2, 0, 0, 2)\n",
            "(-1, 0, 0, 1)\n",
            "(-2, -1, 1, 2)\n"
          ]
        }
      ]
    },
    {
      "cell_type": "markdown",
      "source": [
        "# 3.A permutation of an array of integers is an arrangement of its members into a\n"
      ],
      "metadata": {
        "id": "rZPDm0laN62P"
      }
    },
    {
      "cell_type": "code",
      "source": [
        "def permute(A, P, n):\n",
        "     \n",
        "    # For each element of P\n",
        "    for i in range(n):\n",
        "        next = i\n",
        " \n",
        "        while (P[next] >= 0):\n",
        "             \n",
        "            t = A[i]\n",
        "            A[i] = A[P[next]]\n",
        "            A[P[next]] = t\n",
        "             \n",
        "            temp = P[next]\n",
        " \n",
        "            P[next] -= n\n",
        "            next = temp\n",
        " \n",
        "if __name__ == '__main__':\n",
        "    A = [5, 6, 7, 8]\n",
        "    P = [3, 2, 1, 0]\n",
        "    n = len(A)\n",
        " \n",
        "    permute(A, P, n)\n",
        " \n",
        "    for i in range(n):\n",
        "        print(A[i], end = \" \")\n"
      ],
      "metadata": {
        "id": "3WufAslFN7RP",
        "colab": {
          "base_uri": "https://localhost:8080/"
        },
        "outputId": "28e66ac4-5a50-4ea2-8cc8-0b5613405990"
      },
      "execution_count": 3,
      "outputs": [
        {
          "output_type": "stream",
          "name": "stdout",
          "text": [
            "8 7 6 5 "
          ]
        }
      ]
    },
    {
      "cell_type": "markdown",
      "source": [
        "4.Given a sorted array of distinct integers and a target value, return the index if the target is found. If not, return the index where it would be if it were inserted in order.\n",
        "You must write an algorithm with O(log n) runtime complexity.\n",
        "\n",
        "Ex:\n",
        "Input: nums = [1,3,5,6], target = 5\n",
        "Output: 2\n",
        "\n",
        "\n"
      ],
      "metadata": {
        "id": "oombs98WN7q3"
      }
    },
    {
      "cell_type": "code",
      "source": [
        "def numInsertion(arr,num):\n",
        "    print(arr)\n",
        "    for i in range(len(nums)):\n",
        "      if nums[i]==target:\n",
        "        print(i)\n",
        "        break\n",
        "      else:\n",
        "        for i in range(len(nums)-1):\n",
        "          if target>nums[i] and target<nums[i+1]:\n",
        "              nums.insert(i+1,target)\n",
        "              break\n",
        "      return arr      \n",
        "\n",
        "nums=[1,3,5,6,8]\n",
        "target=4\n",
        "numInsertion(nums,target)               "
      ],
      "metadata": {
        "colab": {
          "base_uri": "https://localhost:8080/"
        },
        "id": "3i7IvdSDPgWk",
        "outputId": "d8cd631b-a84c-492c-f1de-ace9338b0646"
      },
      "execution_count": 4,
      "outputs": [
        {
          "output_type": "stream",
          "name": "stdout",
          "text": [
            "[1, 3, 5, 6, 8]\n"
          ]
        },
        {
          "output_type": "execute_result",
          "data": {
            "text/plain": [
              "[1, 3, 4, 5, 6, 8]"
            ]
          },
          "metadata": {},
          "execution_count": 4
        }
      ]
    },
    {
      "cell_type": "markdown",
      "source": [
        "5.You are given a large integer represented as an integer array digits, where each digits[i] is the ith digit of the integer. The digits are ordered from most significant to least significant in left-to-right order. The large integer does not contain any leading 0's.\n",
        "\n",
        "Increment the large integer by one and return the resulting array of digits.\n",
        "\n",
        "**Example 1:**\n",
        "Input: digits = [1,2,3]\n",
        "Output: [1,2,4]\n",
        "\n",
        "**Explanation:** The array represents the integer 123.\n",
        "\n",
        "Incrementing by one gives 123 + 1 = 124.\n",
        "Thus, the result should be [1,2,4]."
      ],
      "metadata": {
        "id": "sq-50bKsIdJ8"
      }
    },
    {
      "cell_type": "code",
      "source": [
        "dig_arr=[1,2,3,4]\n",
        "def IncrLastDigit(arr):\n",
        "    temp=0\n",
        "    for i in range(0,len(arr)):\n",
        "        if (temp < arr[i]):\n",
        "          temp= arr[i]\n",
        "          #print(temp)\n",
        "    for j in range(0,len(arr)):\n",
        "       if arr[j]==temp:\n",
        "          arr[j]=arr[j]+1\n",
        "    return arr\n",
        "\n",
        "dig_arr=[1,2,3,4]\n",
        "IncrLastDigit(dig_arr)"
      ],
      "metadata": {
        "id": "Yx_JhAcnLOAM",
        "colab": {
          "base_uri": "https://localhost:8080/"
        },
        "outputId": "5f5496d6-2c65-44c6-bb72-62a28e03ee70"
      },
      "execution_count": 20,
      "outputs": [
        {
          "output_type": "execute_result",
          "data": {
            "text/plain": [
              "[1, 2, 3, 5]"
            ]
          },
          "metadata": {},
          "execution_count": 20
        }
      ]
    },
    {
      "cell_type": "markdown",
      "source": [
        "6.Given a non-empty array of integers nums, every element appears twice except\n",
        "for one. Find that single one.\n",
        "You must implement a solution with a linear runtime complexity and use only\n",
        "constant extra space.\n",
        "\n",
        "Ex:\n",
        "Input: nums = [2,2,1]\n",
        "Output: 1"
      ],
      "metadata": {
        "id": "v8N7x46WlVkJ"
      }
    },
    {
      "cell_type": "code",
      "source": [
        "def non_duplicate_nums(arr):   \n",
        "    d={}\n",
        "    li=[]\n",
        "    for i in range(0,len(nums)):\n",
        "        if nums[i] not in d:\n",
        "          d[nums[i]]=1\n",
        "        else:\n",
        "          d[nums[i]] = d[nums[i]]+1\n",
        "\n",
        "    for ele in d:\n",
        "        if d[ele]==1:\n",
        "           li.append(ele)\n",
        "    \n",
        "    return li\n",
        "\n",
        "\n",
        "nums=[2,2,1,3,3,4,5,5]\n",
        "non_duplicate_nums(nums)\n"
      ],
      "metadata": {
        "colab": {
          "base_uri": "https://localhost:8080/"
        },
        "id": "VwM3hcghlpTU",
        "outputId": "fa5bb376-e73b-4c44-9e9b-3dbecf1fa30a"
      },
      "execution_count": 52,
      "outputs": [
        {
          "output_type": "execute_result",
          "data": {
            "text/plain": [
              "[1, 4]"
            ]
          },
          "metadata": {},
          "execution_count": 52
        }
      ]
    },
    {
      "cell_type": "markdown",
      "source": [
        "8.Given an array of meeting time intervals where intervals[i] = [starti, endi],determine if a person could attend all meetings.\n",
        "Input: intervals = [[0,30],[5,10],[15,20]]\n",
        "Output: false\n"
      ],
      "metadata": {
        "id": "uT7jHOhnuS7r"
      }
    },
    {
      "cell_type": "code",
      "source": [
        "\n",
        "class meeting:\n",
        " \n",
        "    def __init__(self, start, end, pos):\n",
        " \n",
        "        self.start = start\n",
        "        self.end = end\n",
        "        self.pos = pos\n",
        " \n",
        "\n",
        "\n",
        "def maxMeeting(l, N):\n",
        "    ans = []\n",
        " \n",
        "    l.sort(key=lambda x: x.end)\n",
        " \n",
        "    ans.append(l[0].pos)\n",
        " \n",
        "    time_limit = l[0].end\n",
        " \n",
        "    for i in range(1, N):\n",
        "        if l[i].start > time_limit:\n",
        "            ans.append(l[i].pos)\n",
        "            time_limit = l[i].end\n",
        " \n",
        "    for i in ans:\n",
        "        print(i + 1, end=\" \")\n",
        " \n",
        "    print()\n",
        " \n",
        "\n",
        "if __name__ == '__main__':\n",
        " \n",
        "    s = [0,5,15]\n",
        "    f = [30,10,20]\n",
        "    N = len(s)\n",
        "    l = []\n",
        " \n",
        "    for i in range(N):\n",
        "       l.append(meeting(s[i], f[i], i))\n",
        " \n",
        "    maxMeeting(l, N)\n",
        "\n"
      ],
      "metadata": {
        "id": "AIe5S5lTNDDb",
        "colab": {
          "base_uri": "https://localhost:8080/"
        },
        "outputId": "502c1bdc-2a82-40a7-a5a1-738f2e90c5b9"
      },
      "execution_count": 59,
      "outputs": [
        {
          "output_type": "stream",
          "name": "stdout",
          "text": [
            "2 3 \n"
          ]
        }
      ]
    }
  ]
}